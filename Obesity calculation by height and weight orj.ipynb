{
 "cells": [
  {
   "cell_type": "code",
   "execution_count": 1,
   "id": "6b83caa6",
   "metadata": {},
   "outputs": [
    {
     "ename": "ModuleNotFoundError",
     "evalue": "No module named 'skfuzzy'",
     "output_type": "error",
     "traceback": [
      "\u001b[1;31m---------------------------------------------------------------------------\u001b[0m",
      "\u001b[1;31mModuleNotFoundError\u001b[0m                       Traceback (most recent call last)",
      "\u001b[1;32m~\\AppData\\Local\\Temp\\ipykernel_16992\\647674934.py\u001b[0m in \u001b[0;36m<module>\u001b[1;34m\u001b[0m\n\u001b[0;32m      1\u001b[0m \u001b[1;32mimport\u001b[0m \u001b[0mnumpy\u001b[0m \u001b[1;32mas\u001b[0m \u001b[0mnp\u001b[0m\u001b[1;33m\u001b[0m\u001b[1;33m\u001b[0m\u001b[0m\n\u001b[0;32m      2\u001b[0m \u001b[1;32mimport\u001b[0m \u001b[0mpandas\u001b[0m \u001b[1;32mas\u001b[0m \u001b[0mpd\u001b[0m\u001b[1;33m\u001b[0m\u001b[1;33m\u001b[0m\u001b[0m\n\u001b[1;32m----> 3\u001b[1;33m \u001b[1;32mimport\u001b[0m \u001b[0mskfuzzy\u001b[0m \u001b[1;32mas\u001b[0m \u001b[0mfuzz\u001b[0m\u001b[1;33m\u001b[0m\u001b[1;33m\u001b[0m\u001b[0m\n\u001b[0m\u001b[0;32m      4\u001b[0m \u001b[1;32mimport\u001b[0m \u001b[0mmatplotlib\u001b[0m\u001b[1;33m.\u001b[0m\u001b[0mpyplot\u001b[0m \u001b[1;32mas\u001b[0m \u001b[0mplt\u001b[0m\u001b[1;33m\u001b[0m\u001b[1;33m\u001b[0m\u001b[0m\n\u001b[0;32m      5\u001b[0m \u001b[1;32mimport\u001b[0m \u001b[0mmath\u001b[0m\u001b[1;33m\u001b[0m\u001b[1;33m\u001b[0m\u001b[0m\n",
      "\u001b[1;31mModuleNotFoundError\u001b[0m: No module named 'skfuzzy'"
     ]
    }
   ],
   "source": [
    "import numpy as np\n",
    "import pandas as pd\n",
    "import skfuzzy as fuzz\n",
    "import matplotlib.pyplot as plt\n",
    "import math"
   ]
  },
  {
   "cell_type": "code",
   "execution_count": null,
   "id": "c16eb5a9",
   "metadata": {},
   "outputs": [],
   "source": [
    "#değişkenleri oluşturduk\n",
    "x_Boy = np.arange(100, 201, 1)\n",
    "x_Kilo = np.arange(30, 101, 1)\n"
   ]
  },
  {
   "cell_type": "code",
   "execution_count": 2,
   "id": "4b68da6a",
   "metadata": {},
   "outputs": [
    {
     "ename": "NameError",
     "evalue": "name 'fuzz' is not defined",
     "output_type": "error",
     "traceback": [
      "\u001b[1;31m---------------------------------------------------------------------------\u001b[0m",
      "\u001b[1;31mNameError\u001b[0m                                 Traceback (most recent call last)",
      "\u001b[1;32m~\\AppData\\Local\\Temp\\ipykernel_16992\\239813198.py\u001b[0m in \u001b[0;36m<module>\u001b[1;34m\u001b[0m\n\u001b[0;32m      1\u001b[0m \u001b[1;31m#Bulanık üyelik fonksiyonları oluşturduk\u001b[0m\u001b[1;33m\u001b[0m\u001b[1;33m\u001b[0m\u001b[0m\n\u001b[1;32m----> 2\u001b[1;33m \u001b[0mBoy_ck\u001b[0m \u001b[1;33m=\u001b[0m \u001b[0mfuzz\u001b[0m\u001b[1;33m.\u001b[0m\u001b[0mtrapmf\u001b[0m\u001b[1;33m(\u001b[0m\u001b[0mx_Boy\u001b[0m\u001b[1;33m,\u001b[0m \u001b[1;33m[\u001b[0m\u001b[1;36m0\u001b[0m\u001b[1;33m,\u001b[0m \u001b[1;36m0\u001b[0m\u001b[1;33m,\u001b[0m \u001b[1;36m115\u001b[0m\u001b[1;33m,\u001b[0m \u001b[1;36m120\u001b[0m\u001b[1;33m]\u001b[0m\u001b[1;33m)\u001b[0m\u001b[1;33m\u001b[0m\u001b[1;33m\u001b[0m\u001b[0m\n\u001b[0m\u001b[0;32m      3\u001b[0m \u001b[0mBoy_k\u001b[0m  \u001b[1;33m=\u001b[0m \u001b[0mfuzz\u001b[0m\u001b[1;33m.\u001b[0m\u001b[0mtrapmf\u001b[0m\u001b[1;33m(\u001b[0m\u001b[0mx_Boy\u001b[0m\u001b[1;33m,\u001b[0m \u001b[1;33m[\u001b[0m\u001b[1;36m115\u001b[0m\u001b[1;33m,\u001b[0m \u001b[1;36m120\u001b[0m\u001b[1;33m,\u001b[0m \u001b[1;36m140\u001b[0m\u001b[1;33m,\u001b[0m \u001b[1;36m145\u001b[0m\u001b[1;33m]\u001b[0m\u001b[1;33m)\u001b[0m\u001b[1;33m\u001b[0m\u001b[1;33m\u001b[0m\u001b[0m\n\u001b[0;32m      4\u001b[0m \u001b[0mBoy_o\u001b[0m  \u001b[1;33m=\u001b[0m \u001b[0mfuzz\u001b[0m\u001b[1;33m.\u001b[0m\u001b[0mtrapmf\u001b[0m\u001b[1;33m(\u001b[0m\u001b[0mx_Boy\u001b[0m\u001b[1;33m,\u001b[0m \u001b[1;33m[\u001b[0m\u001b[1;36m140\u001b[0m\u001b[1;33m,\u001b[0m \u001b[1;36m145\u001b[0m\u001b[1;33m,\u001b[0m \u001b[1;36m160\u001b[0m\u001b[1;33m,\u001b[0m \u001b[1;36m165\u001b[0m\u001b[1;33m]\u001b[0m\u001b[1;33m)\u001b[0m\u001b[1;33m\u001b[0m\u001b[1;33m\u001b[0m\u001b[0m\n\u001b[0;32m      5\u001b[0m \u001b[0mBoy_u\u001b[0m  \u001b[1;33m=\u001b[0m \u001b[0mfuzz\u001b[0m\u001b[1;33m.\u001b[0m\u001b[0mtrapmf\u001b[0m\u001b[1;33m(\u001b[0m\u001b[0mx_Boy\u001b[0m\u001b[1;33m,\u001b[0m \u001b[1;33m[\u001b[0m\u001b[1;36m160\u001b[0m\u001b[1;33m,\u001b[0m \u001b[1;36m165\u001b[0m\u001b[1;33m,\u001b[0m \u001b[1;36m180\u001b[0m\u001b[1;33m,\u001b[0m \u001b[1;36m185\u001b[0m\u001b[1;33m]\u001b[0m\u001b[1;33m)\u001b[0m\u001b[1;33m\u001b[0m\u001b[1;33m\u001b[0m\u001b[0m\n",
      "\u001b[1;31mNameError\u001b[0m: name 'fuzz' is not defined"
     ]
    }
   ],
   "source": [
    "#Bulanık üyelik fonksiyonları oluşturduk\n",
    "Boy_ck = fuzz.trapmf(x_Boy, [0, 0, 115, 120])\n",
    "Boy_k  = fuzz.trapmf(x_Boy, [115, 120, 140, 145])\n",
    "Boy_o  = fuzz.trapmf(x_Boy, [140, 145, 160, 165])\n",
    "Boy_u  = fuzz.trapmf(x_Boy, [160, 165, 180, 185])\n",
    "Boy_cu = fuzz.trapmf(x_Boy, [180, 185, 201, 201])\n",
    "\n",
    "Kilo_cz = fuzz.trapmf(x_Kilo, [0, 0, 40, 45])\n",
    "Kilo_z  = fuzz.trapmf(x_Kilo, [40, 45, 50, 55])\n",
    "Kilo_n  = fuzz.trapmf(x_Kilo, [50, 55, 60, 65])\n",
    "Kilo_k  = fuzz.trapmf(x_Kilo, [60, 65, 80, 85])\n",
    "Kilo_ck = fuzz.trapmf(x_Kilo, [80, 85, 101, 101])\n",
    "\n",
    "#sağlık değerlerini girdik\n",
    "\n",
    "CS  =0.8\n",
    "S   =0.6\n",
    "ES  =0.4\n",
    "AS  =0.2"
   ]
  },
  {
   "cell_type": "code",
   "execution_count": 3,
   "id": "2294a1da",
   "metadata": {},
   "outputs": [
    {
     "ename": "NameError",
     "evalue": "name 'plt' is not defined",
     "output_type": "error",
     "traceback": [
      "\u001b[1;31m---------------------------------------------------------------------------\u001b[0m",
      "\u001b[1;31mNameError\u001b[0m                                 Traceback (most recent call last)",
      "\u001b[1;32m~\\AppData\\Local\\Temp\\ipykernel_16992\\816486517.py\u001b[0m in \u001b[0;36m<module>\u001b[1;34m\u001b[0m\n\u001b[0;32m      1\u001b[0m \u001b[1;31m# Görselleştirme\u001b[0m\u001b[1;33m\u001b[0m\u001b[1;33m\u001b[0m\u001b[0m\n\u001b[1;32m----> 2\u001b[1;33m \u001b[0mfig\u001b[0m\u001b[1;33m,\u001b[0m \u001b[1;33m(\u001b[0m\u001b[0max0\u001b[0m\u001b[1;33m,\u001b[0m \u001b[0max1\u001b[0m\u001b[1;33m,\u001b[0m \u001b[0max2\u001b[0m\u001b[1;33m)\u001b[0m \u001b[1;33m=\u001b[0m \u001b[0mplt\u001b[0m\u001b[1;33m.\u001b[0m\u001b[0msubplots\u001b[0m\u001b[1;33m(\u001b[0m\u001b[0mnrows\u001b[0m\u001b[1;33m=\u001b[0m\u001b[1;36m3\u001b[0m\u001b[1;33m,\u001b[0m \u001b[0mfigsize\u001b[0m\u001b[1;33m=\u001b[0m\u001b[1;33m(\u001b[0m\u001b[1;36m8\u001b[0m\u001b[1;33m,\u001b[0m \u001b[1;36m8\u001b[0m\u001b[1;33m)\u001b[0m\u001b[1;33m)\u001b[0m\u001b[1;33m\u001b[0m\u001b[1;33m\u001b[0m\u001b[0m\n\u001b[0m\u001b[0;32m      3\u001b[0m \u001b[1;33m\u001b[0m\u001b[0m\n\u001b[0;32m      4\u001b[0m \u001b[0max0\u001b[0m\u001b[1;33m.\u001b[0m\u001b[0mplot\u001b[0m\u001b[1;33m(\u001b[0m\u001b[0mx_Boy\u001b[0m\u001b[1;33m,\u001b[0m \u001b[0mBoy_ck\u001b[0m\u001b[1;33m,\u001b[0m \u001b[1;34m'b'\u001b[0m\u001b[1;33m,\u001b[0m \u001b[0mlinewidth\u001b[0m\u001b[1;33m=\u001b[0m\u001b[1;36m1.5\u001b[0m\u001b[1;33m,\u001b[0m \u001b[0mlabel\u001b[0m\u001b[1;33m=\u001b[0m\u001b[1;34m'Çok kısa'\u001b[0m\u001b[1;33m)\u001b[0m\u001b[1;33m\u001b[0m\u001b[1;33m\u001b[0m\u001b[0m\n\u001b[0;32m      5\u001b[0m \u001b[0max0\u001b[0m\u001b[1;33m.\u001b[0m\u001b[0mplot\u001b[0m\u001b[1;33m(\u001b[0m\u001b[0mx_Boy\u001b[0m\u001b[1;33m,\u001b[0m \u001b[0mBoy_k\u001b[0m\u001b[1;33m,\u001b[0m \u001b[1;34m'g'\u001b[0m\u001b[1;33m,\u001b[0m \u001b[0mlinewidth\u001b[0m\u001b[1;33m=\u001b[0m\u001b[1;36m1.5\u001b[0m\u001b[1;33m,\u001b[0m \u001b[0mlabel\u001b[0m\u001b[1;33m=\u001b[0m\u001b[1;34m'Kısa'\u001b[0m\u001b[1;33m)\u001b[0m\u001b[1;33m\u001b[0m\u001b[1;33m\u001b[0m\u001b[0m\n",
      "\u001b[1;31mNameError\u001b[0m: name 'plt' is not defined"
     ]
    }
   ],
   "source": [
    "# Görselleştirme\n",
    "fig, (ax0, ax1, ax2) = plt.subplots(nrows=3, figsize=(8, 8))\n",
    "\n",
    "ax0.plot(x_Boy, Boy_ck, 'b', linewidth=1.5, label='Çok kısa')\n",
    "ax0.plot(x_Boy, Boy_k, 'g', linewidth=1.5, label='Kısa')\n",
    "ax0.plot(x_Boy, Boy_o, 'r', linewidth=1.5, label='Orta')\n",
    "ax0.plot(x_Boy, Boy_u, 'y', linewidth=1.5, label='Uzun')\n",
    "ax0.plot(x_Boy, Boy_cu, 'grey', linewidth=1.5, label='Çok Uzun')\n",
    "\n",
    "ax0.set_title('Boy Uzunluğu')\n",
    "ax0.legend()\n",
    "\n",
    "ax1.plot(x_Kilo, Kilo_cz, 'b', linewidth=1.5, label='Çok Zayıf')\n",
    "ax1.plot(x_Kilo, Kilo_z, 'g', linewidth=1.5, label='Zayıf')\n",
    "ax1.plot(x_Kilo, Kilo_n, 'r', linewidth=1.5, label='Normal')\n",
    "ax1.plot(x_Kilo, Kilo_k, 'y', linewidth=1.5, label='Kilolu')\n",
    "ax1.plot(x_Kilo, Kilo_ck, 'grey', linewidth=1.5, label='Çok Kilolu')\n",
    "\n",
    "ax1.set_title('Vücüt Ağırlığı')\n",
    "ax1.legend()\n",
    "\n",
    "ax2.plot([4, 4], [0, CS], 'b', linewidth=1.5, label='Çok Sağlıklı')\n",
    "ax2.plot([3, 3], [0, S], 'g', linewidth=1.5, label='Sağlıklı')\n",
    "ax2.plot([2, 2], [0, ES], 'r', linewidth=1.5, label='epeyce Sağlıklı')\n",
    "ax2.plot([1, 1], [0, AS], 'y', linewidth=1.5, label='Az ağlıklı')\n",
    "\n",
    "ax2.set_title('Sağlık')\n",
    "ax2.legend()\n",
    "\n",
    "# eksen kapatma\n",
    "for ax in (ax0, ax1):\n",
    "    ax.spines['top'].set_visible(False)\n",
    "    ax.spines['right'].set_visible(False)\n",
    "    ax.get_xaxis().tick_bottom()\n",
    "    ax.get_yaxis().tick_left()\n",
    "\n",
    "plt.tight_layout()\n"
   ]
  },
  {
   "cell_type": "code",
   "execution_count": 4,
   "id": "538a432e",
   "metadata": {},
   "outputs": [],
   "source": [
    "## FAM\n",
    "CS=0.8;S=0.6;ES=0.4;AS=0.2\n",
    "FAM = [[CS,S,ES,AS,AS],[S,CS,S,ES,AS],[ES,CS,CS,ES,AS],[AS,S,CS,S,AS],[AS,ES,CS,S,ES]]\n"
   ]
  },
  {
   "cell_type": "code",
   "execution_count": 58,
   "id": "47ad7227",
   "metadata": {},
   "outputs": [],
   "source": [
    "## DEĞER GİRİLME KISMI\n",
    "in_Boy = 172\n",
    "in_Kilo = 70"
   ]
  },
  {
   "cell_type": "code",
   "execution_count": 59,
   "id": "7f028d7c",
   "metadata": {},
   "outputs": [
    {
     "name": "stdout",
     "output_type": "stream",
     "text": [
      "Üyelik Derecesinde Boy-Vücüt : \n",
      "Uzun        :1.0\n",
      "\n",
      "Üyelik Derecesinde Kilo-Vücüt : \n",
      "Kilolu         :1.0\n"
     ]
    }
   ],
   "source": [
    "# BULANIKLAŞTIRMA\n",
    "in_1 = []\n",
    "in_1.append(fuzz.interp_membership(x_Boy, Boy_ck, in_Boy))\n",
    "in_1.append(fuzz.interp_membership(x_Boy, Boy_k, in_Boy))\n",
    "in_1.append(fuzz.interp_membership(x_Boy, Boy_o, in_Boy))\n",
    "in_1.append(fuzz.interp_membership(x_Boy, Boy_u, in_Boy))\n",
    "in_1.append(fuzz.interp_membership(x_Boy, Boy_cu, in_Boy))\n",
    "\n",
    "in_2 = []\n",
    "in_2.append(fuzz.interp_membership(x_Kilo, Kilo_cz, in_Kilo))\n",
    "in_2.append(fuzz.interp_membership(x_Kilo, Kilo_z, in_Kilo))\n",
    "in_2.append(fuzz.interp_membership(x_Kilo, Kilo_n, in_Kilo))\n",
    "in_2.append(fuzz.interp_membership(x_Kilo, Kilo_k, in_Kilo))\n",
    "in_2.append(fuzz.interp_membership(x_Kilo, Kilo_ck, in_Kilo))\n",
    "\n",
    "print(\"Üyelik Derecesinde Boy-Vücüt : \")\n",
    "if in_1[0]>0 :\n",
    "    print(\"Çok Kısa    :\"+ str(in_1[0]))\n",
    "if in_1[1]>0 :\n",
    "    print(\"Kısa        :\"+ str(in_1[1]))\n",
    "if in_1[2]>0 :\n",
    "    print(\"Orta        :\"+ str(in_1[2]))\n",
    "if in_1[3]>0 :\n",
    "    print(\"Uzun        :\"+ str(in_1[3]))\n",
    "if in_1[4]>0 :\n",
    "    print(\"Çok Uzun    :\"+ str(in_1[4]))\n",
    "\n",
    "print(\"\")\n",
    "print(\"Üyelik Derecesinde Kilo-Vücüt : \")\n",
    "if in_2[0]>0 :\n",
    "    print(\"Çok Zayıf      :\"+ str(in_2[0]))\n",
    "if in_2[1]>0 :\n",
    "    print(\"Zayıf          :\"+ str(in_2[1]))\n",
    "if in_2[2]>0 :\n",
    "    print(\"Normal         :\"+ str(in_2[2]))\n",
    "if in_2[3]>0 :\n",
    "    print(\"Kilolu         :\"+ str(in_2[3]))\n",
    "if in_2[4]>0 :\n",
    "    print(\"Çok Kilolu     :\"+ str(in_2[4]))"
   ]
  },
  {
   "cell_type": "code",
   "execution_count": 60,
   "id": "804b6c09",
   "metadata": {},
   "outputs": [
    {
     "name": "stdout",
     "output_type": "stream",
     "text": [
      "Uzunluk Vücut Matrisi:\n",
      "[0.0, 0.0, 0.0, 1.0, 0.0]\n",
      "\n",
      "Kilo Vücut Matrisi:\n",
      "[0.0, 0.0, 0.0, 1.0, 0.0]\n"
     ]
    }
   ],
   "source": [
    "## MATRİS HESAPLAMA\n",
    "print(\"Uzunluk Vücut Matrisi:\")\n",
    "print(in_1)\n",
    "print(\"\")\n",
    "print(\"Kilo Vücut Matrisi:\")\n",
    "\n",
    "print(in_2)"
   ]
  },
  {
   "cell_type": "code",
   "execution_count": 61,
   "id": "eff06c3f",
   "metadata": {},
   "outputs": [
    {
     "name": "stdout",
     "output_type": "stream",
     "text": [
      "Sağlık Dizisi :0.6\n",
      "Sağlıklı       :100.00 %\n",
      "Çok Sağlıklı :0.00 %\n"
     ]
    }
   ],
   "source": [
    "## BULANIKLAŞTIRMA\n",
    "#Payda\n",
    "rul = []\n",
    "for i in range(5):\n",
    "    for j in range(5):\n",
    "        rule=fuzz.relation_min(in_1[i], in_2[j])\n",
    "        rul.append(rule)\n",
    "        #print(rule)\n",
    "Payda=np.sum(rul)\n",
    "#Sayaç\n",
    "rul = []\n",
    "for i in range(5):\n",
    "    for j in range(5):\n",
    "        rule=fuzz.relation_min(in_1[i], in_2[j])\n",
    "        rulxx= rule*FAM[i][j]\n",
    "        rul.append(rulxx)\n",
    "        #print(rulxx)\n",
    "Sayac=np.sum(rul)\n",
    "Sonuc = Sayac/Payda\n",
    "\n",
    "## Sonuçlar\n",
    "print(\"Sağlık Dizisi :\"+ str(Sonuc))\n",
    "if Sonuc >=0.2 and Sonuc < 0.4 :\n",
    "    za = (abs(Sonuc-2)/(0.4-0.2))*100\n",
    "    zb = (abs(Sonuc-0.4)/(0.4-0.2))*100\n",
    "    print(\"Düşük Sağlıklı :\"+ '{:2.2f}'.format(zb)+\" %\")\n",
    "    print(\"Epeyce Sağlıklı  :\"+ '{:2.2f}'.format(za)+\" %\")\n",
    "if Sonuc>=0.4 and Sonuc< 0.6:\n",
    "    za = (abs(Sonuc-0.4)/(0.6-0.4))*100\n",
    "    zb = (abs(Sonuc-0.6)/(0.6-0.4))*100\n",
    "    print(\"epeyce Sağlıklı :\"+ '{:2.2f}'.format(zb)+\" %\")\n",
    "    print(\"Sağlıklı     :\"+ '{:2.2f}'.format(za)+\" %\")\n",
    "if Sonuc>=0.6 and Sonuc< 0.8:\n",
    "    za = (abs(Sonuc-0.6)/(0.8-0.6))*100\n",
    "    zb = (abs(Sonuc-0.8)/(0.8-0.6))*100\n",
    "    print(\"Sağlıklı       :\"+ '{:2.2f}'.format(zb)+\" %\")\n",
    "    print(\"Çok Sağlıklı :\"+ '{:2.2f}'.format(za)+\" %\")\n",
    "if Sonuc>=0.8:\n",
    "    za = (abs(Sonuc-0.8)/(1.0-0.8))*100\n",
    "    print(\"Çok Sağlıkı :\"+ '{:2.2f}'.format(za)+\" %\")"
   ]
  },
  {
   "cell_type": "code",
   "execution_count": 40,
   "id": "ca387949",
   "metadata": {},
   "outputs": [
    {
     "name": "stdout",
     "output_type": "stream",
     "text": [
      "1.0\n"
     ]
    }
   ],
   "source": [
    "## DURULAŞTIRMA\n",
    "# Metot MAX:\n",
    "rul = []\n",
    "for i in range(5):\n",
    "    for j in range(5):\n",
    "        rule=fuzz.relation_min(in_1[i], in_2[j])\n",
    "        rul.append(rule)\n",
    "        #print(rule)\n",
    "maxi=np.max(rul)\n",
    "print(maxi)"
   ]
  }
 ],
 "metadata": {
  "kernelspec": {
   "display_name": "Python 3 (ipykernel)",
   "language": "python",
   "name": "python3"
  },
  "language_info": {
   "codemirror_mode": {
    "name": "ipython",
    "version": 3
   },
   "file_extension": ".py",
   "mimetype": "text/x-python",
   "name": "python",
   "nbconvert_exporter": "python",
   "pygments_lexer": "ipython3",
   "version": "3.10.8"
  }
 },
 "nbformat": 4,
 "nbformat_minor": 5
}
